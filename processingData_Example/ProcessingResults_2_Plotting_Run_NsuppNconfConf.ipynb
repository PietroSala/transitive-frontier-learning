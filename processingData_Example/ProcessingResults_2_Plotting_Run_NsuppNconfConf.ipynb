{
 "cells": [
  {
   "cell_type": "code",
   "execution_count": null,
   "id": "219a6629",
   "metadata": {},
   "outputs": [],
   "source": [
    "import numpy as np\n",
    "\n",
    "import pandas as pd\n",
    "from datetime import time\n",
    "from datetime import datetime\n",
    "import matplotlib.pyplot as plt\n",
    "import matplotlib.dates as mdates\n",
    "import matplotlib.ticker as ticker\n",
    "\n",
    "\n",
    "# myClass \n",
    "import import_ipynb\n",
    "import helper_general as my\n",
    "import helper_ProcessingResults as myPR"
   ]
  },
  {
   "cell_type": "code",
   "execution_count": null,
   "id": "01abe482",
   "metadata": {},
   "outputs": [],
   "source": [
    "def _subPlot(ax, df_toPlot, xAtt, yAtt, linestyle, color=None): \n",
    "    # Plot:-----------------------\n",
    "    for y in yAtt:\n",
    "        #ax.plot_date(df_toPlot[xAtt], df_toPlot[y], linestyle=linestyle, color=color)#,marker# markersize=2)# plot\n",
    "        ax.plot_date(df_toPlot[xAtt], df_toPlot[y], linestyle, color=color)\n",
    "\n",
    "def _subAxsis_TimeBasedLabels(ax, ylabel='', title='', legend=None):\n",
    "    # Labels:-----------------------\n",
    "    ax.legend(legend) if legend is not None else None\n",
    "    ax.set(xlabel='Hours [h]', ylabel=ylabel, title=title)\n",
    "    ax.xaxis.set_major_locator(mdates.HourLocator(byhour=range(0,24,2)))\n",
    "    ax.xaxis.set_minor_locator(mdates.MinuteLocator(byminute=range(0,24*60,20)))\n",
    "    ax.xaxis.set_major_formatter(mdates.DateFormatter('%H:%M'))\n",
    "    ax.grid()\n",
    "\n",
    "# fig, axes = plt.subplots(nrows=1, ncols=1, figsize=(6,4)) \n",
    "# _subPlot(axes, df_state, 'run_totTime',['posNsupp','posNconf','posConf'], '-')\n",
    "# _subAxsis_TimeBasedLabels(axes, ylabel='N° Rules', title= title_fig, legend=legend_fig)\n",
    "# fig.tight_layout()"
   ]
  },
  {
   "cell_type": "markdown",
   "id": "4cc12b61",
   "metadata": {},
   "source": [
    "# Load + processing File"
   ]
  },
  {
   "cell_type": "code",
   "execution_count": null,
   "id": "79ee3e92",
   "metadata": {},
   "outputs": [],
   "source": [
    "sourceDir = \"./data_raw/\"\n",
    "filename = ['report_RCE.txt','report_RSE.txt','report_RCA.txt','report_RSA.txt']#,'Report_RC_ud.txt']\n",
    "report_name = ['RCE','RSE','RCA','RSA'] #NB: stesso ordine dei file caricati\n",
    "outputDir = \"./graphs/\""
   ]
  },
  {
   "cell_type": "code",
   "execution_count": null,
   "id": "7b9d7f35",
   "metadata": {},
   "outputs": [],
   "source": [
    "df_runs, df_subRuns = [],[]\n",
    "for f in [sourceDir+f for f in filename]:\n",
    "    a,b = myPR.loadReport_TEST(f)\n",
    "    df_runs.append(a.drop(columns=['lenghtConstr','run_startTime']))\n",
    "    df_subRuns.append(b)"
   ]
  },
  {
   "cell_type": "markdown",
   "id": "927fe396",
   "metadata": {},
   "source": [
    "## Include/esclude RC_ud"
   ]
  },
  {
   "cell_type": "code",
   "execution_count": null,
   "id": "0cf56ae9",
   "metadata": {},
   "outputs": [],
   "source": [
    "# TO add RC_ud all'analisi, decommentare le seguenti istruzioni:\n",
    "#report_name +=['RC_ud'] #NB: stesso ordine dei file caricati\n",
    "#df_runs += [myPR.loadReport_up(sourceDir+'Report_RC_ud.txt')]"
   ]
  },
  {
   "cell_type": "code",
   "execution_count": null,
   "id": "001076f0",
   "metadata": {},
   "outputs": [],
   "source": [
    "# Modifico stato: Supported -> Confident\n",
    "for df in df_runs:\n",
    "    df['state'] = df['state'].map(lambda x: 'Confident' if x=='Supported' else x)\n",
    "display(df_runs[0].head(3))"
   ]
  },
  {
   "cell_type": "markdown",
   "id": "d382660c",
   "metadata": {},
   "source": [
    "### Costruzione dataframe con il solo scopo di construire i grafici più comodamente"
   ]
  },
  {
   "cell_type": "code",
   "execution_count": null,
   "id": "2abeda26",
   "metadata": {},
   "outputs": [],
   "source": [
    "# Plot Non Supp, Non Confid, Confid\n",
    "def ruleStateCumsum(df_runs, stateAtt):\n",
    "    temp = df_runs.copy()\n",
    "    temp['posNsupp'] = (df_runs[stateAtt]=='Not supported').cumsum()\n",
    "    temp['posNconf'] = (df_runs[stateAtt]=='Not confident').cumsum()\n",
    "    temp['posConf']  = (df_runs[stateAtt]=='Confident').cumsum()\n",
    "    return temp"
   ]
  },
  {
   "cell_type": "markdown",
   "id": "db94b306",
   "metadata": {},
   "source": [
    "## Grafico 1: N° Rules over time for analysis with RCE:\n",
    "R: Random child, C: Complete digit priority, E: saturate Effective"
   ]
  },
  {
   "cell_type": "code",
   "execution_count": null,
   "id": "fb2681d5",
   "metadata": {},
   "outputs": [],
   "source": [
    "ID_file = 0\n",
    "df_state = ruleStateCumsum(df_runs[ID_file], 'state')\n",
    "title_fig = f'Number of Rules over time: {report_name[ID_file]}'\n",
    "legend_fig = ['Not supported', 'Not confident', 'confident'] #NB: stesso ordine dei dati nel plot\n",
    "\n",
    "fig, axes = plt.subplots(nrows=1, ncols=1, figsize=(6,4)) \n",
    "_subPlot(axes, df_state, 'run_totTime',['posNsupp','posNconf','posConf'], '-')\n",
    "_subAxsis_TimeBasedLabels(axes, ylabel='N° Rules', title= title_fig, legend=legend_fig)\n",
    "fig.tight_layout()\n",
    "fig.savefig(outputDir+title_fig.replace(' ','_').replace(':','')+'.svg', format='svg', dpi=1200)"
   ]
  },
  {
   "cell_type": "markdown",
   "id": "dbba1be1",
   "metadata": {},
   "source": [
    "## Grafico 2: N° Rules over time for analysis with RSE:\n",
    "R: Random child, S: Simple digit priority, E: saturate Effective"
   ]
  },
  {
   "cell_type": "code",
   "execution_count": null,
   "id": "aae0258d",
   "metadata": {},
   "outputs": [],
   "source": [
    "ID_file = 1\n",
    "df_state = ruleStateCumsum(df_runs[ID_file], 'state')\n",
    "title_fig = f'Number of Rules over time: {report_name[ID_file]}'\n",
    "legend_fig = ['Not supported', 'Not confident', 'confident'] #NB: stesso ordine dei dati nel plot\n",
    "\n",
    "fig, axes = plt.subplots(nrows=1, ncols=1, figsize=(7,4)) \n",
    "_subPlot(axes, df_state, 'run_totTime', ['posNsupp','posNconf','posConf'], '-')\n",
    "_subAxsis_TimeBasedLabels(axes, ylabel='N° Rules', title= title_fig, legend=legend_fig)\n",
    "fig.tight_layout()\n",
    "fig.savefig(outputDir+title_fig.replace(' ','_').replace(':','')+'.svg', format='svg', dpi=1200)"
   ]
  },
  {
   "cell_type": "markdown",
   "id": "a041b2b3",
   "metadata": {},
   "source": [
    "## Grafico 3: N° Rules over time for analysis with RCA:\n",
    "R: Random child, C: Complete digit priority, A: saturate All"
   ]
  },
  {
   "cell_type": "code",
   "execution_count": null,
   "id": "2beb3e2d",
   "metadata": {},
   "outputs": [],
   "source": [
    "ID_file = 2\n",
    "df_state = ruleStateCumsum(df_runs[ID_file], 'state')\n",
    "title_fig = f'Number of Rules over time: {report_name[ID_file]}'\n",
    "legend_fig = ['Not supported', 'Not confident', 'confident'] #NB: stesso ordine dei dati nel plot\n",
    "\n",
    "fig, axes = plt.subplots(nrows=1, ncols=1, figsize=(7,4)) \n",
    "_subPlot(axes, df_state, 'run_totTime', ['posNsupp','posNconf','posConf'], '-')\n",
    "_subAxsis_TimeBasedLabels(axes, ylabel='N° Rules', title= title_fig, legend=legend_fig)\n",
    "fig.tight_layout()\n",
    "fig.savefig(outputDir+title_fig.replace(' ','_').replace(':','')+'.svg', format='svg', dpi=1200)"
   ]
  },
  {
   "cell_type": "markdown",
   "id": "041cac58",
   "metadata": {},
   "source": [
    "## Grafico 4: N° Rules over time for analysis with RSA:\n",
    "R: Random child, S: Simple digit priority, E: saturate Effective"
   ]
  },
  {
   "cell_type": "code",
   "execution_count": null,
   "id": "35e3449f",
   "metadata": {},
   "outputs": [],
   "source": [
    "ID_file = 3\n",
    "df_state = ruleStateCumsum(df_runs[ID_file], 'state')\n",
    "title_fig = f'Number of Rules over time: {report_name[ID_file]}'\n",
    "legend_fig = ['Not supported', 'Not confident', 'confident'] #NB: stesso ordine dei dati nel plot\n",
    "\n",
    "fig, axes = plt.subplots(nrows=1, ncols=1, figsize=(7,4)) \n",
    "_subPlot(axes, df_state, 'run_totTime', ['posNsupp','posNconf','posConf'], '-')\n",
    "_subAxsis_TimeBasedLabels(axes, ylabel='N° Rules', title= title_fig, legend=legend_fig)\n",
    "fig.tight_layout()\n",
    "fig.savefig(outputDir+title_fig.replace(' ','_').replace(':','')+'.svg', format='svg', dpi=1200)"
   ]
  },
  {
   "cell_type": "markdown",
   "id": "90af3794",
   "metadata": {},
   "source": [
    "## Grafico 5: N° Nsupp,Nconf,Conf over time between each test:"
   ]
  },
  {
   "cell_type": "code",
   "execution_count": null,
   "id": "ae5e2a6e",
   "metadata": {},
   "outputs": [],
   "source": [
    "## Vertical\n",
    "df_state = [ ruleStateCumsum(df, 'state') for df in df_runs]\n",
    "fig, (axNsupp, axNConf, axConf) = plt.subplots(nrows=3, ncols=1, figsize=(5,11)) \n",
    "for state, axes in zip(['posNsupp','posNconf','posConf'],[axNsupp, axNConf, axConf]):\n",
    "    for df in df_state:\n",
    "        _subPlot(axes, df, 'run_totTime', [state], '-')\n",
    "\n",
    "for state, axes in zip(['Not supported', 'Not Contide', 'Confident'],[axNsupp, axNConf, axConf]):\n",
    "    title_fig = f'N° of {state} Rules over time'\n",
    "    _subAxsis_TimeBasedLabels(axes, ylabel='N° Rules', title=title_fig, legend=report_name)\n",
    "fig.tight_layout()\n",
    "fig.savefig(outputDir+'Rules_comparison_over_time_V'+'.svg', format='svg', dpi=1200)"
   ]
  },
  {
   "cell_type": "code",
   "execution_count": null,
   "id": "9b933e92",
   "metadata": {},
   "outputs": [],
   "source": [
    "## Horizontal\n",
    "df_state = [ ruleStateCumsum(df, 'state') for df in df_runs]\n",
    "fig, (axNsupp, axNConf, axConf) = plt.subplots(nrows=1, ncols=3, figsize=(15,4)) \n",
    "for state, axes in zip(['posNsupp','posNconf','posConf'],[axNsupp, axNConf, axConf]):\n",
    "    for df in df_state:\n",
    "        _subPlot(axes, df, 'run_totTime', [state], '-')\n",
    "    \n",
    "\n",
    "for state, axes in zip(['Not supported', 'Not Contide', 'Confident'],[axNsupp, axNConf, axConf]):\n",
    "    title_fig = f'N° of {state} Rules over time'\n",
    "    _subAxsis_TimeBasedLabels(axes, ylabel='N° Rules', title=title_fig, legend=report_name)\n",
    "fig.tight_layout()\n",
    "fig.savefig(outputDir+'Rules_comparison_over_time_H'+'.svg', format='svg', dpi=1200)"
   ]
  },
  {
   "cell_type": "code",
   "execution_count": null,
   "id": "b9386ba8",
   "metadata": {},
   "outputs": [],
   "source": [
    "fig, ax = plt.subplots(nrows=1, ncols=1, figsize=(12,6)) \n",
    "color=[None]*len(df_state)\n",
    "for state,ls in zip(['posNsupp','posNconf','posConf'],[':','-.','-']):\n",
    "    for c,df in enumerate(df_state):\n",
    "        _subPlot(ax, df, 'run_totTime', [state], ls, color=color[c])\n",
    "    color = [l.get_color() for l in ax.get_lines()][0:len(df_state)]\n",
    "    \n",
    "legend= [f\"{name}_{s}\" for s in ['nSupp','nConf','conf'] for name in report_name ]\n",
    "_subAxsis_TimeBasedLabels(ax, ylabel='N° Rules', title='Comparison method', legend=legend)\n",
    "fig.savefig(outputDir+'All'+'.svg', format='svg', dpi=1200)"
   ]
  },
  {
   "cell_type": "markdown",
   "id": "93ad171b",
   "metadata": {},
   "source": [
    "# ALTRO : RC_up"
   ]
  },
  {
   "cell_type": "code",
   "execution_count": null,
   "id": "246abafb",
   "metadata": {},
   "outputs": [],
   "source": [
    "sourceDir = \"./data_raw/\"\n",
    "filename = ['Report_RC_ud.txt']\n",
    "report_name = ['RC_ud'] #NB: stesso ordine dei file caricati\n",
    "outputDir = \"./graphs/\""
   ]
  },
  {
   "cell_type": "code",
   "execution_count": null,
   "id": "cbcd69dd",
   "metadata": {},
   "outputs": [],
   "source": [
    "df_runs = [myPR.loadReport_up(sourceDir+filename[0])]\n",
    "df_runs[0].head()"
   ]
  },
  {
   "cell_type": "code",
   "execution_count": null,
   "id": "8d825312",
   "metadata": {},
   "outputs": [],
   "source": [
    "ID_file = 0\n",
    "df_state = ruleStateCumsum(df_runs[ID_file], 'state')\n",
    "title_fig = f'Number of Rules over time: {report_name[ID_file]}'\n",
    "legend_fig = ['Not supported', 'Not confident', 'confident'] #NB: stesso ordine dei dati nel plot\n",
    "\n",
    "fig, axes = plt.subplots(nrows=1, ncols=1, figsize=(6,4)) \n",
    "_subPlot(axes, df_state, 'run_totTime',['posNsupp','posNconf','posConf'], '-')\n",
    "_subAxsis_TimeBasedLabels(axes, ylabel='N° Rules', title= title_fig, legend=legend_fig)\n",
    "fig.tight_layout()\n",
    "fig.savefig(outputDir+title_fig.replace(' ','_').replace(':','')+'.svg', format='svg', dpi=1200)"
   ]
  }
 ],
 "metadata": {
  "kernelspec": {
   "display_name": "Python 3 (ipykernel)",
   "language": "python",
   "name": "python3"
  },
  "language_info": {
   "codemirror_mode": {
    "name": "ipython",
    "version": 3
   },
   "file_extension": ".py",
   "mimetype": "text/x-python",
   "name": "python",
   "nbconvert_exporter": "python",
   "pygments_lexer": "ipython3",
   "version": "3.9.6"
  }
 },
 "nbformat": 4,
 "nbformat_minor": 5
}
