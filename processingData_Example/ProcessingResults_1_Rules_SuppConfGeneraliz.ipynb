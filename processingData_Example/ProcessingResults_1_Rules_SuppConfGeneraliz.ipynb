{
 "cells": [
  {
   "cell_type": "code",
   "execution_count": null,
   "id": "409f89c2",
   "metadata": {},
   "outputs": [],
   "source": [
    "import pandas as pd\n",
    "import pydotplus as ptp\n",
    "\n",
    "# myClass \n",
    "import import_ipynb\n",
    "import helper_general as my\n",
    "import helper_ProcessingResults as myPR"
   ]
  },
  {
   "cell_type": "markdown",
   "id": "21f877cc",
   "metadata": {},
   "source": [
    "# Loading + preprocessing AirQuality Dataset"
   ]
  },
  {
   "cell_type": "code",
   "execution_count": null,
   "id": "3939b198",
   "metadata": {},
   "outputs": [],
   "source": [
    "# Take the correct rows and columns\n",
    "airQuality = pd.read_csv(\"AirQualityUCI.csv\", sep=';').iloc[0:9356,1:-2] # No Date\n",
    "#display(airQuality.head(3))\n",
    "\n",
    "# Replacement the \",\" with \".\" in the scientific notations \n",
    "airQuality = airQuality.astype(str).applymap(lambda val: val.replace(',','.'))\n",
    "\n",
    "# Replacement the \"(\" and \")\" with \"_\" in the columns' name to prevent grammar's errors\n",
    "airQuality.columns = [ colName.replace(\"(\",\"_\").replace(')','').replace('.','_') for colName in airQuality.columns.to_list()]\n",
    "display(airQuality.head(3))"
   ]
  },
  {
   "cell_type": "markdown",
   "id": "db17c2bd",
   "metadata": {},
   "source": [
    "## Mapping values, Encoder and Decoder"
   ]
  },
  {
   "cell_type": "code",
   "execution_count": null,
   "id": "ce2029d7",
   "metadata": {},
   "outputs": [],
   "source": [
    "# Values mapping \n",
    "encod , decod = {},{}\n",
    "for col in airQuality.columns.to_list():\n",
    "    \n",
    "    if col == \"Time\":\n",
    "        dec = airQuality[col].drop_duplicates().sort_values().reset_index(drop=True)\n",
    "    else :\n",
    "        dec = airQuality[col].astype(float).drop_duplicates().sort_values() #float-> -200 == -200.0\n",
    "        if dec.iloc[0] == -200:\n",
    "            dec = dec.iloc[1:] # remove the -200.0 (None) => mapping only between not None values \n",
    "        dec = dec.reset_index(drop=True) \n",
    "    enc = dec.reset_index().set_index(col)['index']\n",
    "    \n",
    "    encod |= {col: dict(enc)| {-200.0: -1} } # Si può modificate -> per avere tutti interi\n",
    "    decod |= {col: dict(dec)| {-1 : -200.0}}\n",
    "#my.myDisplay([encod['CO_GT'], decod['CO_GT']], axis=1)"
   ]
  },
  {
   "cell_type": "markdown",
   "id": "769bae1a",
   "metadata": {},
   "source": [
    "Encoding Dataset"
   ]
  },
  {
   "cell_type": "code",
   "execution_count": null,
   "id": "a237fc78",
   "metadata": {},
   "outputs": [],
   "source": [
    "df_AQ = pd.DataFrame() \n",
    "for col in airQuality.columns:\n",
    "    if col == \"Time\":\n",
    "         df_AQ[col] = airQuality[col].map(lambda val: encod[col][val])\n",
    "    else:\n",
    "        df_AQ[col] = airQuality[col].map(lambda val: encod[col][float(val)]) # cast float -> '2' == '2.0' == 2.0\n",
    "df_AQ.head(3)"
   ]
  },
  {
   "cell_type": "markdown",
   "id": "ddad805b",
   "metadata": {},
   "source": [
    "# Load + decoded rules + Supp, Conf, Generaliz"
   ]
  },
  {
   "cell_type": "code",
   "execution_count": null,
   "id": "01978b17",
   "metadata": {},
   "outputs": [],
   "source": [
    "sourceDir = \"./data_raw/\"\n",
    "filename_path =  ['RCE_rules.csv','RSE_rules.csv','RCA_rules.csv','RSA_rules.csv']#,'Report_RC_ud.txt']\n",
    "report_name = ['RCE','RSE','RCA','RSA'] #NB: same orther of the loaded files\n",
    "outputDir = \"./processed_data/\""
   ]
  },
  {
   "cell_type": "code",
   "execution_count": null,
   "id": "4367862f",
   "metadata": {
    "scrolled": true
   },
   "outputs": [],
   "source": [
    "id_file=0\n",
    "rep_name = report_name[id_file]\n",
    "df_Rules = pd.read_csv(sourceDir+filename_path[id_file])\n",
    "df_Rules"
   ]
  },
  {
   "cell_type": "code",
   "execution_count": null,
   "id": "ffae8691",
   "metadata": {},
   "outputs": [],
   "source": [
    "df_decodRules = df_Rules.copy()\n",
    "df_decodRules['L'] = df_decodRules.apply(lambda row: decod[row['V']][row['L']], axis=1)\n",
    "df_decodRules['U'] = df_decodRules.apply(lambda row: decod[row['V']][row['U']], axis=1)\n",
    "my.Display([df_Rules, df_decodRules], names=['df_Rules', 'df_decodRules'], axis=1)"
   ]
  },
  {
   "cell_type": "markdown",
   "id": "74f96980",
   "metadata": {},
   "source": [
    "Decode Rules"
   ]
  },
  {
   "cell_type": "code",
   "execution_count": null,
   "id": "a8053f95",
   "metadata": {},
   "outputs": [],
   "source": [
    "supp = 0.05\n",
    "conf = 0.8\n",
    "\n",
    "infoRule = df_Rules.groupby('idRule').apply(lambda df: myPR.rule_supp_conf(df_AQ, df[df['Side']=='X'], df[df['Side']=='Y'] ) )\n",
    "infoRule = pd.DataFrame(list(infoRule)).rename_axis('idRule')\n",
    "infoRule['state'] = infoRule.apply(lambda rule: myPR.rule_State(rule,supp,conf), axis=1)\n",
    "infoRule"
   ]
  },
  {
   "cell_type": "code",
   "execution_count": null,
   "id": "5c08e776",
   "metadata": {},
   "outputs": [],
   "source": [
    "prettyRule = df_decodRules.groupby('idRule').apply(lambda df: myPR.prettyRule(df[df['Side']=='X'], df[df['Side']=='Y'] ) )\n",
    "prettyRule = prettyRule.rename('Rule').to_frame().assign(state= infoRule['state'].values)\n",
    "prettyRule.head(5)"
   ]
  },
  {
   "cell_type": "markdown",
   "id": "04b0e050",
   "metadata": {},
   "source": [
    "GENERALIZATIONS"
   ]
  },
  {
   "cell_type": "code",
   "execution_count": null,
   "id": "c0a8fe3d",
   "metadata": {},
   "outputs": [],
   "source": [
    "df_idRuleGeneral = myPR.generalizations(df_decodRules)\n",
    "df_idRuleGeneral  \n",
    "\n",
    "df_RuleGeneral = pd.merge(df_idRuleGeneral, prettyRule, left_on=['idRule_G'], right_on=['idRule'])\n",
    "df_RuleGeneral = pd.merge(df_RuleGeneral, prettyRule, left_on=['idRule_g'], right_on=['idRule'], suffixes=('_G','_g'))\n",
    "df_RuleGeneral.head(5)"
   ]
  },
  {
   "cell_type": "code",
   "execution_count": null,
   "id": "36357919",
   "metadata": {},
   "outputs": [],
   "source": [
    "# seleziono solo Confident --> Confident\n",
    "df_RuleGeneral_Conf = df_RuleGeneral[ (df_RuleGeneral['state_G']=='Confident') & (df_RuleGeneral['state_g']=='Confident')]\n",
    "df_RuleGeneral_Conf = df_RuleGeneral_Conf[ df_RuleGeneral_Conf['idRule_G'] > df_RuleGeneral_Conf['idRule_g'] ]\n",
    "display(df_RuleGeneral_Conf.head(3))"
   ]
  },
  {
   "cell_type": "markdown",
   "id": "3e86ef15",
   "metadata": {},
   "source": [
    "## Prune adjTree "
   ]
  },
  {
   "cell_type": "code",
   "execution_count": null,
   "id": "44dc6809",
   "metadata": {},
   "outputs": [],
   "source": [
    "# df_RuleGeneral_Conf_OK\n",
    "edjeList_tc = df_RuleGeneral_Conf[['idRule_G','idRule_g']].values # (merge come tranClosure)\n",
    "df_General_tree = df_RuleGeneral_Conf.groupby('idRule_G').agg({'idRule_g':list})\n",
    "df_General_tree['adj_pruned'] = df_General_tree.apply(lambda row: myPR.pruneEdge(row.name, row.idRule_g, edjeList_tc), axis=1)\n",
    "display(df_General_tree.head(3))"
   ]
  },
  {
   "cell_type": "markdown",
   "id": "da4ee0ee",
   "metadata": {},
   "source": [
    "## Save data"
   ]
  },
  {
   "cell_type": "code",
   "execution_count": null,
   "id": "98d8b7f7",
   "metadata": {},
   "outputs": [],
   "source": [
    "# SAVE inforule\n",
    "infoRule.to_csv( outputDir + rep_name + '_infoRule.csv' )\n",
    "prettyRule.to_csv( outputDir + rep_name + '_prettyRule.csv')"
   ]
  },
  {
   "cell_type": "code",
   "execution_count": null,
   "id": "4dcd929a",
   "metadata": {},
   "outputs": [],
   "source": [
    "# # Save generalization\n",
    "df_RuleGeneral.to_csv(outputDir + rep_name + '_General_ALL.csv')\n",
    "df_RuleGeneral_Conf.to_csv(outputDir + rep_name + '_General_Conf.csv')"
   ]
  },
  {
   "cell_type": "code",
   "execution_count": null,
   "id": "f9b9789e",
   "metadata": {},
   "outputs": [],
   "source": [
    "# # SAve generalization Tree pruned\n",
    "edfeList_prued= df_General_tree['adj_pruned'].explode().reset_index().rename(columns={'adj_pruned':'idRule_g'})\n",
    "edfeList_prued.to_csv(outputDir + rep_name + '_edgeList_pruned_Conf.csv')"
   ]
  },
  {
   "cell_type": "code",
   "execution_count": null,
   "id": "2cd1f93e",
   "metadata": {},
   "outputs": [],
   "source": []
  },
  {
   "cell_type": "markdown",
   "id": "b79a6182",
   "metadata": {},
   "source": [
    "# Loop"
   ]
  },
  {
   "cell_type": "code",
   "execution_count": null,
   "id": "62094635",
   "metadata": {},
   "outputs": [],
   "source": [
    "sourceDir = \"./data_raw/\"\n",
    "filename_path =  ['RCE_rules.csv','RSE_rules.csv','RCA_rules.csv','RSA_rules.csv']#,'Report_RC_ud.txt']\n",
    "report_name = ['RCE','RSE','RCA','RSA'] #NB: stesso ordine dei file caricati\n",
    "outputDir = \"./processed_data/\""
   ]
  },
  {
   "cell_type": "markdown",
   "id": "bd242023",
   "metadata": {},
   "source": [
    "## Include/esclude RC_ud"
   ]
  },
  {
   "cell_type": "code",
   "execution_count": null,
   "id": "2e68e688",
   "metadata": {},
   "outputs": [],
   "source": [
    "# abilitare/disabilitare l'analisi di RC_up\n",
    "filename_path += ['RC_ud_rules.csv']\n",
    "report_name += ['RC_ud']"
   ]
  },
  {
   "cell_type": "code",
   "execution_count": null,
   "id": "7347aeb9",
   "metadata": {},
   "outputs": [],
   "source": [
    "for path, rep_name in zip(filename_path, report_name):\n",
    "    print(path)\n",
    "    df_Rules = pd.read_csv(sourceDir + path)\n",
    "    \n",
    "    df_decodRules = df_Rules.copy()\n",
    "    df_decodRules['L'] = df_decodRules.apply(lambda row: decod[row['V']][row['L']], axis=1)\n",
    "    df_decodRules['U'] = df_decodRules.apply(lambda row: decod[row['V']][row['U']], axis=1)\n",
    "    #my.Display([df_Rules, df_decodRules], names=['df_Rules', 'df_decodRules'], axis=1)\n",
    "\n",
    "    #Decode Rules:------------------------------\n",
    "    supp = 0.05\n",
    "    conf = 0.8\n",
    "\n",
    "    # Funziona bene con dataset AirQuality codificato (tutto stessa forma)\n",
    "    infoRule = df_Rules.groupby('idRule').apply(lambda df: myPR.rule_supp_conf(df_AQ, df[df['Side']=='X'], df[df['Side']=='Y'] ) )\n",
    "    infoRule = pd.DataFrame(list(infoRule)).rename_axis('idRule')\n",
    "    infoRule['state'] = infoRule.apply(lambda rule: myPR.rule_State(rule,supp,conf), axis=1)\n",
    "\n",
    "    prettyRule = df_decodRules.groupby('idRule').apply(lambda df: myPR.prettyRule(df[df['Side']=='X'], df[df['Side']=='Y'] ) )\n",
    "    prettyRule = prettyRule.rename('Rule').to_frame().assign(state= infoRule['state'].values)\n",
    "\n",
    "    #GENERALIZATIONS:---------------------------\n",
    "\n",
    "    df_idRuleGeneral = myPR.generalizations(df_decodRules)  \n",
    "    df_RuleGeneral = pd.merge(df_idRuleGeneral, prettyRule, left_on=['idRule_G'], right_on=['idRule'])\n",
    "    df_RuleGeneral = pd.merge(df_RuleGeneral, prettyRule, left_on=['idRule_g'], right_on=['idRule'], suffixes=('_G','_g'))\n",
    "   \n",
    "    # seleziono solo Confident --> Confident\n",
    "    df_RuleGeneral_Conf = df_RuleGeneral[ (df_RuleGeneral['state_G']=='Confident') & (df_RuleGeneral['state_g']=='Confident')]\n",
    "    df_RuleGeneral_Conf= df_RuleGeneral_Conf[ df_RuleGeneral_Conf['idRule_G'] > df_RuleGeneral_Conf['idRule_g'] ]\n",
    "   \n",
    "    #Prune adjTree:-----------------------------------\n",
    "    edjeList_tc = df_RuleGeneral_Conf[['idRule_G','idRule_g']].values # (merge come tranClosure)\n",
    "    df_General_tree= df_RuleGeneral_Conf.groupby('idRule_G').agg({'idRule_g':list})\n",
    "    df_General_tree['adj_pruned'] = df_General_tree.apply(lambda row: myPR.pruneEdge(row.name, row.idRule_g, edjeList_tc), axis=1)\n",
    "\n",
    "   \n",
    "    ## Save data: -----------------------------------\n",
    "    # SAVE inforule\n",
    "    infoRule.to_csv( outputDir + rep_name + '_infoRule.csv' )\n",
    "    prettyRule.to_csv( outputDir + rep_name + '_prettyRule.csv')\n",
    "\n",
    "    # # Save generalization\n",
    "    df_RuleGeneral.to_csv(outputDir + rep_name + '_General_ALL.csv')\n",
    "    df_RuleGeneral_Conf.to_csv(outputDir + rep_name + '_General_Conf.csv')\n",
    "    \n",
    "    # # SAve generalization Tree pruned\n",
    "    edfeList_prued = df_General_tree['adj_pruned'].explode().reset_index().rename(columns={'adj_pruned':'idRule_g'})\n",
    "    edfeList_prued.to_csv(outputDir + rep_name + '_edgeList_pruned_Conf.csv')\n",
    "\n",
    "print('END')  "
   ]
  },
  {
   "cell_type": "code",
   "execution_count": null,
   "id": "84e29250",
   "metadata": {},
   "outputs": [],
   "source": []
  },
  {
   "cell_type": "code",
   "execution_count": null,
   "id": "dbe07ad3",
   "metadata": {},
   "outputs": [],
   "source": []
  }
 ],
 "metadata": {
  "kernelspec": {
   "display_name": "Python 3 (ipykernel)",
   "language": "python",
   "name": "python3"
  },
  "language_info": {
   "codemirror_mode": {
    "name": "ipython",
    "version": 3
   },
   "file_extension": ".py",
   "mimetype": "text/x-python",
   "name": "python",
   "nbconvert_exporter": "python",
   "pygments_lexer": "ipython3",
   "version": "3.9.6"
  }
 },
 "nbformat": 4,
 "nbformat_minor": 5
}
