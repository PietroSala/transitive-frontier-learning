{
 "cells": [
  {
   "cell_type": "code",
   "execution_count": null,
   "id": "5e611eed",
   "metadata": {},
   "outputs": [],
   "source": [
    "import numpy as np\n",
    "\n",
    "import pandas as pd\n",
    "from datetime import time\n",
    "from datetime import datetime\n",
    "import matplotlib.pyplot as plt\n",
    "import matplotlib.dates as mdates\n",
    "import matplotlib.ticker as ticker\n",
    "\n",
    "\n",
    "# myClass \n",
    "import import_ipynb\n",
    "import helper_general as my\n",
    "import helper_ProcessingResults as myPR"
   ]
  },
  {
   "cell_type": "code",
   "execution_count": null,
   "id": "0129f59a",
   "metadata": {},
   "outputs": [],
   "source": [
    "# Per calcolare media tra run (o subrun) \n",
    "def cumMean(dfList, TimeAttribute, att, sampleFreq, legend=None):\n",
    "    temp = []\n",
    "    for df in dfList:\n",
    "        df = df.resample(sampleFreq, on=TimeAttribute)[att].agg({'count'})#.cumsum()# se qui-> Nan influenzano\n",
    "        temp.append(df)\n",
    "    return pd.concat(temp, axis=1).mean(axis=1).cumsum() #mean considera Nan -> mean([1,Nan,3])= (1+3)/2\n",
    "#t = cumMean(df_runs, 'run_totTime', 'ID_Run', '5min', file_id).to_frame()"
   ]
  },
  {
   "cell_type": "code",
   "execution_count": null,
   "id": "280dddd5",
   "metadata": {},
   "outputs": [],
   "source": [
    "def _subPlot(ax, df_toPlot, xAtt, yAtt, linestyle, color=None): \n",
    "    # Plot:-----------------------\n",
    "    for y in yAtt:\n",
    "        #ax.plot_date(df_toPlot[xAtt], df_toPlot[y], linestyle=linestyle, color=color)#,marker# markersize=2)# plot\n",
    "        ax.plot_date(df_toPlot[xAtt], df_toPlot[y], linestyle, color=color)\n",
    "\n",
    "def _subAxsis_TimeBasedLabels(ax, ylabel='', title='', legend=None):\n",
    "    # Labels:-----------------------\n",
    "    ax.legend(legend) if legend is not None else None\n",
    "    ax.set(xlabel='Hours [h]', ylabel=ylabel, title=title)\n",
    "    ax.xaxis.set_major_locator(mdates.HourLocator(byhour=range(0,24,2)))\n",
    "    ax.xaxis.set_minor_locator(mdates.MinuteLocator(byminute=range(0,24*60,20)))\n",
    "    ax.xaxis.set_major_formatter(mdates.DateFormatter('%H:%M'))\n",
    "    ax.grid()"
   ]
  },
  {
   "cell_type": "markdown",
   "id": "eab60cfb",
   "metadata": {},
   "source": [
    "# Load + processing File"
   ]
  },
  {
   "cell_type": "code",
   "execution_count": null,
   "id": "a3efc3f5",
   "metadata": {},
   "outputs": [],
   "source": [
    "sourceDir = \"./data_raw/\"\n",
    "filename = ['report_RCE.txt','report_RSE.txt','report_RCA.txt','report_RSA.txt']#,'Report_RC_ud.txt']\n",
    "report_name = ['RCE','RSE','RCA','RSA'] #NB: stesso ordine dei file caricati\n",
    "outputDir = \"./graphs/\""
   ]
  },
  {
   "cell_type": "code",
   "execution_count": null,
   "id": "a1e2c187",
   "metadata": {},
   "outputs": [],
   "source": [
    "df_runs, df_subRuns = [],[]\n",
    "for f in [sourceDir+f for f in filename]:\n",
    "    a,b = myPR.loadReport_TEST(f)\n",
    "    df_runs.append(a.drop(columns=['lenghtConstr','run_startTime']))\n",
    "    df_subRuns.append(b)"
   ]
  },
  {
   "cell_type": "code",
   "execution_count": null,
   "id": "933e64c1",
   "metadata": {},
   "outputs": [],
   "source": [
    "for df in df_runs:\n",
    "    df['state'] = df['state'].map(lambda x: 'Confident' if x=='Supported' else x)\n",
    "display(df_runs[0].head(2))\n",
    "display(df_subRuns[0].head(2))"
   ]
  },
  {
   "cell_type": "code",
   "execution_count": null,
   "id": "42d6a232",
   "metadata": {
    "scrolled": true
   },
   "outputs": [],
   "source": [
    "# Per calcolare media tra run (o subrun) \n",
    "def cumMean(dfList, TimeAttribute, att, sampleFreq, legend=None):\n",
    "    temp = []\n",
    "    for df in dfList:\n",
    "        df = df.resample(sampleFreq, on=TimeAttribute)[att].agg({'count'})#.cumsum()# se qui-> Nan influenzano\n",
    "        temp.append(df)\n",
    "    return pd.concat(temp, axis=1).mean(axis=1).cumsum() #mean considera Nan -> mean([1,Nan,3])= (1+3)/2\n",
    "#t = cumMean(df_runs, 'run_totTime', 'ID_Run', '5min', file_id).to_frame()"
   ]
  },
  {
   "cell_type": "markdown",
   "id": "bdc15006",
   "metadata": {},
   "source": [
    "## Grafico 1: N° SubRun over time between methods"
   ]
  },
  {
   "cell_type": "markdown",
   "id": "6c9cb7e3",
   "metadata": {},
   "source": [
    "### Costruzione dataframe con il solo scopo di construire i grafici più comodamente"
   ]
  },
  {
   "cell_type": "code",
   "execution_count": null,
   "id": "c7bc6ecf",
   "metadata": {},
   "outputs": [],
   "source": [
    "# RCE -> R: Random child, C: Complete digit priority, E: saturate Effective\n",
    "# RSE -> R: Random child, S: Simple digit priority,   E: saturate Effective\n",
    "# RCA -> R: Random child, C: Complete digit priority, A: saturate All\n",
    "# RSA -> R: Random child, S: Simple digit priority  , A: saturate All"
   ]
  },
  {
   "cell_type": "code",
   "execution_count": null,
   "id": "9327518a",
   "metadata": {},
   "outputs": [],
   "source": [
    "# porto tutti i grafici nella stessa freq temp + ridurre punti del grafo\n",
    "toPlot=[]\n",
    "for df, name in zip(df_subRuns, report_name):\n",
    "    toPlot.append( df.resample('5min', on='subRun_totTime')['subRun_time'].agg({'count'}).cumsum().rename(columns={'count':name}))\n",
    "toPlot = pd.concat(toPlot, axis=1).reset_index()\n",
    "my.Display([toPlot.head(3),toPlot.tail(3)], axis=1)"
   ]
  },
  {
   "cell_type": "code",
   "execution_count": null,
   "id": "0f09477a",
   "metadata": {},
   "outputs": [],
   "source": [
    "df_toPlot = toPlot\n",
    "title_fig = f'Comparison of the number of subrun over time'\n",
    "legend_fig = report_name\n",
    "\n",
    "fig, axes = plt.subplots(nrows=1, ncols=1, figsize=(6,4)) \n",
    "_subPlot(axes, toPlot, 'subRun_totTime', report_name, '-')\n",
    "_subAxsis_TimeBasedLabels(axes, ylabel='N° subrun', title= title_fig, legend=legend_fig)\n",
    "fig.tight_layout()\n",
    "fig.savefig(outputDir+title_fig.replace(' ','_').replace(':','')+'.svg', format='svg', dpi=1200)"
   ]
  },
  {
   "cell_type": "markdown",
   "id": "a4766b54",
   "metadata": {},
   "source": [
    "## Grafico 2: Avg SubRun over time between methods"
   ]
  },
  {
   "cell_type": "code",
   "execution_count": null,
   "id": "8372944a",
   "metadata": {},
   "outputs": [],
   "source": [
    "toPlot_avgNum=[]\n",
    "for df, name in zip(df_subRuns, report_name):\n",
    "    toPlot_avgNum.append( df.resample('10min', on='subRun_totTime')['ID_Run','ID_SubRun']\n",
    "                      .agg({'ID_Run':set, 'ID_SubRun':'count'})\n",
    "                      .apply(lambda row: row['ID_SubRun']/len(row['ID_Run']), axis=1).rename(name))\n",
    "toPlot_avgNum = pd.concat(toPlot_avgNum, axis=1).reset_index()\n",
    "#my.Display([toPlot_avg.head(3),toPlot_avg.tail(3)], axis=0)"
   ]
  },
  {
   "cell_type": "code",
   "execution_count": null,
   "id": "e6038ed2",
   "metadata": {},
   "outputs": [],
   "source": [
    "df_toPlot = toPlot_avgNum\n",
    "title_fig = f'Comparison of the number of averange subrun over time'\n",
    "legend_fig = report_name\n",
    "\n",
    "fig, axes = plt.subplots(nrows=1, ncols=1, figsize=(10,5)) \n",
    "_subPlot(axes, df_toPlot.dropna(), 'subRun_totTime', report_name, '-')\n",
    "_subAxsis_TimeBasedLabels(axes, ylabel='N° avg subrun', title= title_fig, legend=legend_fig)\n",
    "fig.tight_layout()\n",
    "fig.savefig(outputDir+title_fig.replace(' ','_').replace(':','')+'.svg', format='svg', dpi=1200)"
   ]
  },
  {
   "cell_type": "markdown",
   "id": "e84896ab",
   "metadata": {},
   "source": [
    "## Grafico 3: Avg SubRun durate over time between methods"
   ]
  },
  {
   "cell_type": "code",
   "execution_count": null,
   "id": "90e06eea",
   "metadata": {},
   "outputs": [],
   "source": [
    "toPlot_avgTime=[]\n",
    "zero = datetime.strptime( \"00:00\", \"%H:%M\") \n",
    "for df, name in zip(df_subRuns, report_name):\n",
    "    toPlot_avgTime.append( df.resample('10min', on='subRun_totTime')['ID_SubRun','subRun_time']\n",
    "                      .agg({'ID_SubRun':'count', 'subRun_time':'sum'})\n",
    "                      .apply(lambda row: row['subRun_time']/row['ID_SubRun']+zero, axis=1).rename(name))\n",
    "toPlot_avgTime = pd.concat(toPlot_avgTime, axis=1).reset_index()\n",
    "#my.Display([toPlot_avgTime.head(3),toPlot_avgTime.tail(3)], axis=0)"
   ]
  },
  {
   "cell_type": "code",
   "execution_count": null,
   "id": "69abae47",
   "metadata": {},
   "outputs": [],
   "source": [
    "df_toPlot = toPlot_avgTime\n",
    "title_fig = f'Comparison of the averange time of subrun over time'\n",
    "legend_fig = report_name\n",
    "\n",
    "fig, axes = plt.subplots(nrows=1, ncols=1, figsize=(10,5)) \n",
    "_subPlot(axes, df_toPlot.dropna(), 'subRun_totTime', report_name, '-')\n",
    "_subAxsis_TimeBasedLabels(axes, ylabel='Avg time for subrun [s]', title= title_fig, legend=legend_fig)\n",
    "fig.tight_layout()\n",
    "fig.savefig(outputDir+title_fig.replace(' ','_').replace(':','')+'.svg', format='svg', dpi=1200)"
   ]
  },
  {
   "cell_type": "markdown",
   "id": "b1959ea9",
   "metadata": {},
   "source": [
    "## Grafico 4: Avg duration of SubRun between methods"
   ]
  },
  {
   "cell_type": "code",
   "execution_count": null,
   "id": "d3db575a",
   "metadata": {
    "scrolled": true
   },
   "outputs": [],
   "source": [
    "title= \"Subrun duration's frequence\"\n",
    "legend = report_name\n",
    "\n",
    "\n",
    "toPlot_avg = []\n",
    "zero = datetime.strptime( \"00:00\", \"%H:%M\") \n",
    "for df, name in zip(df_subRuns, report_name):\n",
    "    df = df.copy() # non sovrascriverer dati originali\n",
    "    df['subRun_time'] = df['subRun_time']+ zero\n",
    "    toPlot_avg.append( df.sort_values('subRun_time').resample('1s', on='subRun_time')['ID_SubRun'].agg({'count'}).rename(columns={'count':name}))\n",
    "toPlot_avg = pd.concat(toPlot_avg, axis=1).reset_index()\n",
    "#my.Display([toPlot_avg.head(3),toPlot_avg.tail(3)], axis=1)   \n",
    "\n",
    "#NB: mask nan values per plot !!!!\n",
    "for rn in report_name:\n",
    "    toPlot_avg[rn] = toPlot_avg[rn]\n",
    "    toPlot_avg[rn] = np.ma.masked_where( pd.isna(toPlot_avg[rn]), toPlot_avg[rn])\n",
    "#my.Display([toPlot_avg.head(3),toPlot_avg.tail(3)], axis=1)\n",
    "\n",
    "# plot:-------------------------------\n",
    "fig, axes = plt.subplots(nrows=1, ncols=1, figsize=(10,5))\n",
    "toPlot_avg = toPlot_avg.head(13).set_index('subRun_time') # NB RIDOTTO GRAFO -> Tralascio coda (val poco influenti)\n",
    "toPlot_avg.plot.bar(ax=axes, figsize=(16,5))\n",
    "\n",
    "# labels:---------------\n",
    "axes.set(xlabel='Duration [s]', ylabel='Frequence of subrun', title=title)\n",
    "axes.legend(legend)\n",
    "\n",
    "# axis\n",
    "ticklabels = [item.strftime('%M:%S') for item in toPlot_avg.index]\n",
    "axes.set_xticklabels(ticklabels, rotation=0)\n",
    "axes.grid()\n",
    "\n",
    "# save\n",
    "fig.savefig(outputDir+title.replace(' ','_').replace(':','').replace(\"''\",'')+'.svg', format='svg', dpi=1200)"
   ]
  },
  {
   "cell_type": "code",
   "execution_count": null,
   "id": "60cc29b3",
   "metadata": {},
   "outputs": [],
   "source": []
  }
 ],
 "metadata": {
  "kernelspec": {
   "display_name": "Python 3 (ipykernel)",
   "language": "python",
   "name": "python3"
  },
  "language_info": {
   "codemirror_mode": {
    "name": "ipython",
    "version": 3
   },
   "file_extension": ".py",
   "mimetype": "text/x-python",
   "name": "python",
   "nbconvert_exporter": "python",
   "pygments_lexer": "ipython3",
   "version": "3.9.6"
  }
 },
 "nbformat": 4,
 "nbformat_minor": 5
}
